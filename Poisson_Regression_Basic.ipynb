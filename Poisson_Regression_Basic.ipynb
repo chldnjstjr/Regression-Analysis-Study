{
  "nbformat": 4,
  "nbformat_minor": 0,
  "metadata": {
    "colab": {
      "name": "Poisson Regression_Basic.ipynb",
      "provenance": [],
      "collapsed_sections": [],
      "authorship_tag": "ABX9TyPJZOeYQ01ClgsUpKIujIRs"
    },
    "kernelspec": {
      "name": "ir",
      "display_name": "R"
    },
    "language_info": {
      "name": "R"
    }
  },
  "cells": [
    {
      "cell_type": "markdown",
      "metadata": {
        "id": "w_Yo-zLRgkaU"
      },
      "source": [
        "## 감사의 말씀 및 출처\n",
        "\n",
        "*   R 페이지 사용 편리하게 만들어주신 dataprofessor님께 감사의 말씀 드립니다. \n",
        "[출처](http://youtube.com/dataprofessor)\n",
        "\n",
        "*   정말 좋은 강의 만들어주신 국민대 곽기영 교수님께 감사의 말씀 드립니다. [출처](https://www.youtube.com/watch?v=-Za5MrWUohg)\n",
        "\n",
        "\n",
        "\n"
      ]
    },
    {
      "cell_type": "markdown",
      "metadata": {
        "id": "GRKKA_3yhJCZ"
      },
      "source": [
        "# 6월 20일 첫 번째 포아송 회귀분석 공부"
      ]
    },
    {
      "cell_type": "markdown",
      "metadata": {
        "id": "pUVlPqqrnBXJ"
      },
      "source": [
        "## 포아송 회귀분석 개요\n",
        "\n",
        "포아송 회귀분석(Poisson regression analysis)은 결과변수가 특정 기간 동안의 사건발생횟수(또는 개수)인 경우에 적용이 가능한 회귀분석이다([출처](https://www.youtube.com/watch?v=-Za5MrWUohg)).\n",
        "\n",
        "*그렇다면 포아송 분포는 무엇이었던가?*\n",
        "\n",
        "포아송 분포(Poisson distribution)는 확률론에서 단위 시간 안에 어떤 사건이 몇 번 발생할 것인지를 표현하는 이산 확률 분포이다([출처](https://ko.wikipedia.org/wiki/%ED%91%B8%EC%95%84%EC%86%A1_%EB%B6%84%ED%8F%AC#:~:text=%ED%91%B8%EC%95%84%EC%86%A1%20%EB%B6%84%ED%8F%AC(Poisson%E5%88%86%E5%B8%83,%ED%95%98%EB%8A%94%20%EC%9D%B4%EC%82%B0%20%ED%99%95%EB%A5%A0%20%EB%B6%84%ED%8F%AC%EC%9D%B4%EB%8B%A4.))).\n",
        "\n",
        "### 예시\n",
        "*   일정한 시간 동안 도착한 고객의 수\n",
        "*   1km 도로 내에 있는 흠집의 수\n",
        "*   특정 시간 동안 톨게이트를 통과하는 차량의 수\n",
        "*   기타 등등 \n",
        "\n",
        "### 포아성 가정에 어긋나는 사례\n",
        "*   매년 캘리포니아 주에서 발생하는 진도5의 지진 빈도는 포아송 분포를 따르지 않는다. 왜냐하면 한 번 발생한 지진이 향후 지진의 가능성에 영향을 끼치기 때문에 두 사건이 독립적이지 않기 때문이다([출처](https://ko.wikipedia.org/wiki/%ED%91%B8%EC%95%84%EC%86%A1_%EB%B6%84%ED%8F%AC#:~:text=%ED%91%B8%EC%95%84%EC%86%A1%20%EB%B6%84%ED%8F%AC(Poisson%E5%88%86%E5%B8%83,%ED%95%98%EB%8A%94%20%EC%9D%B4%EC%82%B0%20%ED%99%95%EB%A5%A0%20%EB%B6%84%ED%8F%AC%EC%9D%B4%EB%8B%A4.))).\n",
        "\n",
        "\n",
        "\n",
        "\n",
        "\n"
      ]
    },
    {
      "cell_type": "markdown",
      "metadata": {
        "id": "79c95qKRhSXF"
      },
      "source": [
        "## 코드 작성\n",
        "\n",
        "R에 내장된 데이터셋을 분석한 것으로 국민대학교 곽기영 교수님의 유튜브 영상의 내용이 대부분임([출처](https://www.youtube.com/watch?v=-Za5MrWUohg))."
      ]
    },
    {
      "cell_type": "code",
      "metadata": {
        "colab": {
          "base_uri": "https://localhost:8080/"
        },
        "id": "fIMl6494gYri",
        "outputId": "1edb9d6d-4500-4c24-dd63-7b559cb2733e"
      },
      "source": [
        "install.packages(\"robust\")\n",
        "library(robust)"
      ],
      "execution_count": 1,
      "outputs": [
        {
          "output_type": "stream",
          "text": [
            "Installing package into ‘/usr/local/lib/R/site-library’\n",
            "(as ‘lib’ is unspecified)\n",
            "\n",
            "also installing the dependencies ‘DEoptimR’, ‘mvtnorm’, ‘pcaPP’, ‘fit.models’, ‘robustbase’, ‘rrcov’\n",
            "\n",
            "\n",
            "Loading required package: fit.models\n",
            "\n",
            "Registered S3 methods overwritten by 'robust':\n",
            "  method              from      \n",
            "  plot.covfm          fit.models\n",
            "  print.covfm         fit.models\n",
            "  summary.covfm       fit.models\n",
            "  print.summary.covfm fit.models\n",
            "\n",
            "rlm is already registered in the fit.models registry\n",
            "\n",
            "covfm is already registered in the fit.models registry\n",
            "\n",
            "\n",
            "Attaching package: ‘robust’\n",
            "\n",
            "\n",
            "The following objects are masked from ‘package:fit.models’:\n",
            "\n",
            "    ddPlot.covfm, distancePlot.covfm, ellipsesPlot.covfm,\n",
            "    screePlot.covfm\n",
            "\n",
            "\n"
          ],
          "name": "stderr"
        }
      ]
    },
    {
      "cell_type": "code",
      "metadata": {
        "colab": {
          "base_uri": "https://localhost:8080/"
        },
        "id": "2qhD-2cBgiiG",
        "outputId": "26e76e62-9450-4ec8-a82c-d13977c9570d"
      },
      "source": [
        "data(\"breslow.dat\") #데이터 불러오기 \n",
        "# 뇌전증 환자의 치료전 8주 간의 발작횟수와 치료후 8주간의 발작횟수에 대한 데이터가 있다. \n",
        "str(breslow.dat)"
      ],
      "execution_count": 2,
      "outputs": [
        {
          "output_type": "stream",
          "text": [
            "'data.frame':\t59 obs. of  12 variables:\n",
            " $ ID   : int  104 106 107 114 116 118 123 126 130 135 ...\n",
            " $ Y1   : int  5 3 2 4 7 5 6 40 5 14 ...\n",
            " $ Y2   : int  3 5 4 4 18 2 4 20 6 13 ...\n",
            " $ Y3   : int  3 3 0 1 9 8 0 23 6 6 ...\n",
            " $ Y4   : int  3 3 5 4 21 7 2 12 5 0 ...\n",
            " $ Base : int  11 11 6 8 66 27 12 52 23 10 ...\n",
            " $ Age  : int  31 30 25 36 22 29 31 42 37 28 ...\n",
            " $ Trt  : Factor w/ 2 levels \"placebo\",\"progabide\": 1 1 1 1 1 1 1 1 1 1 ...\n",
            " $ Ysum : int  14 14 11 13 55 22 12 95 22 33 ...\n",
            " $ sumY : int  14 14 11 13 55 22 12 95 22 33 ...\n",
            " $ Age10: num  3.1 3 2.5 3.6 2.2 2.9 3.1 4.2 3.7 2.8 ...\n",
            " $ Base4: num  2.75 2.75 1.5 2 16.5 6.75 3 13 5.75 2.5 ...\n"
          ],
          "name": "stdout"
        }
      ]
    },
    {
      "cell_type": "code",
      "metadata": {
        "id": "c8yB4Q8YqlM3"
      },
      "source": [
        "seizure = breslow.dat[c(\"Base\", \"Age\", \"Trt\", \"sumY\")] #분석에 필요한 4개의 데이터만을 추출 \n",
        "#SumY는 치료 후 8주간 발작횟수이고 Base는 치료 전 발작횟수, Trt는 치료제 종류로 progabide가 진약을 의미함."
      ],
      "execution_count": 3,
      "outputs": []
    },
    {
      "cell_type": "code",
      "metadata": {
        "colab": {
          "base_uri": "https://localhost:8080/",
          "height": 556
        },
        "id": "5oYk4oPxrWHD",
        "outputId": "aba8f01f-652e-4024-e99c-a5495fb8d9c8"
      },
      "source": [
        "summary(seizure) #sumY의 median이 mean보다 훨씬 작음. 왼쪽으로 치우치지 않았을까?\n",
        "hist(seizure$sumY, breaks = 20, col=\"cornflowerblue\", xlab = \"Seizure Count\", main = \"Distribution of Seizures\") #왼쪽으로 치우친 분포임을 확인"
      ],
      "execution_count": 4,
      "outputs": [
        {
          "output_type": "display_data",
          "data": {
            "text/plain": [
              "      Base             Age               Trt          sumY       \n",
              " Min.   :  6.00   Min.   :18.00   placebo  :28   Min.   :  0.00  \n",
              " 1st Qu.: 12.00   1st Qu.:23.00   progabide:31   1st Qu.: 11.50  \n",
              " Median : 22.00   Median :28.00                  Median : 16.00  \n",
              " Mean   : 31.22   Mean   :28.34                  Mean   : 33.05  \n",
              " 3rd Qu.: 41.00   3rd Qu.:32.00                  3rd Qu.: 36.00  \n",
              " Max.   :151.00   Max.   :42.00                  Max.   :302.00  "
            ]
          },
          "metadata": {
            "tags": []
          }
        },
        {
          "output_type": "display_data",
          "data": {
            "image/png": "[encoded data removed]",
            "text/plain": [
              "Plot with title “Distribution of Seizures”"
            ]
          },
          "metadata": {
            "tags": [],
            "image/png": {
              "width": 420,
              "height": 420
            }
          }
        }
      ]
    },
    {
      "cell_type": "code",
      "metadata": {
        "colab": {
          "base_uri": "https://localhost:8080/"
        },
        "id": "0bvOrSN0slWN",
        "outputId": "432fbf8e-3c85-4e93-a1df-5dec15f52ccf"
      },
      "source": [
        "#그러나 hist 안그리고 좀 더 효율적으로 살펴볼 수 있는 방법. \n",
        "install.packages(\"psych\")\n",
        "library(psych)"
      ],
      "execution_count": 6,
      "outputs": [
        {
          "output_type": "stream",
          "text": [
            "Installing package into ‘/usr/local/lib/R/site-library’\n",
            "(as ‘lib’ is unspecified)\n",
            "\n",
            "also installing the dependencies ‘tmvnsim’, ‘mnormt’\n",
            "\n",
            "\n"
          ],
          "name": "stderr"
        }
      ]
    },
    {
      "cell_type": "code",
      "metadata": {
        "colab": {
          "base_uri": "https://localhost:8080/",
          "height": 128
        },
        "id": "1TLcZCFHtE1L",
        "outputId": "37ba36de-9b6f-479b-da6b-9f5258668a7b"
      },
      "source": [
        "psych::describe(seizure$sumY, trim = 0.05) #Skew(왜도)가 양수이므로 오른쪽으로 긴꼬리 "
      ],
      "execution_count": 7,
      "outputs": [
        {
          "output_type": "display_data",
          "data": {
            "text/plain": [
              "   vars n  mean     sd       median trimmed  mad    min max range skew    \n",
              "X1 1    59 33.05085 45.58411 16     27.30909 14.826 0   302 302   3.862289\n",
              "   kurtosis se      \n",
              "X1 18.49612 5.934546"
            ],
            "text/latex": "A psych: 1 × 13\n\\begin{tabular}{r|lllllllllllll}\n  & vars & n & mean & sd & median & trimmed & mad & min & max & range & skew & kurtosis & se\\\\\n  & <dbl> & <dbl> & <dbl> & <dbl> & <dbl> & <dbl> & <dbl> & <dbl> & <dbl> & <dbl> & <dbl> & <dbl> & <dbl>\\\\\n\\hline\n\tX1 & 1 & 59 & 33.05085 & 45.58411 & 16 & 27.30909 & 14.826 & 0 & 302 & 302 & 3.862289 & 18.49612 & 5.934546\\\\\n\\end{tabular}\n",
            "text/markdown": "\nA psych: 1 × 13\n\n| <!--/--> | vars &lt;dbl&gt; | n &lt;dbl&gt; | mean &lt;dbl&gt; | sd &lt;dbl&gt; | median &lt;dbl&gt; | trimmed &lt;dbl&gt; | mad &lt;dbl&gt; | min &lt;dbl&gt; | max &lt;dbl&gt; | range &lt;dbl&gt; | skew &lt;dbl&gt; | kurtosis &lt;dbl&gt; | se &lt;dbl&gt; |\n|---|---|---|---|---|---|---|---|---|---|---|---|---|---|\n| X1 | 1 | 59 | 33.05085 | 45.58411 | 16 | 27.30909 | 14.826 | 0 | 302 | 302 | 3.862289 | 18.49612 | 5.934546 |\n\n",
            "text/html": [
              "<table class=\"dataframe\">\n",
              "<caption>A psych: 1 × 13</caption>\n",
              "<thead>\n",
              "\t<tr><th></th><th scope=col>vars</th><th scope=col>n</th><th scope=col>mean</th><th scope=col>sd</th><th scope=col>median</th><th scope=col>trimmed</th><th scope=col>mad</th><th scope=col>min</th><th scope=col>max</th><th scope=col>range</th><th scope=col>skew</th><th scope=col>kurtosis</th><th scope=col>se</th></tr>\n",
              "\t<tr><th></th><th scope=col>&lt;dbl&gt;</th><th scope=col>&lt;dbl&gt;</th><th scope=col>&lt;dbl&gt;</th><th scope=col>&lt;dbl&gt;</th><th scope=col>&lt;dbl&gt;</th><th scope=col>&lt;dbl&gt;</th><th scope=col>&lt;dbl&gt;</th><th scope=col>&lt;dbl&gt;</th><th scope=col>&lt;dbl&gt;</th><th scope=col>&lt;dbl&gt;</th><th scope=col>&lt;dbl&gt;</th><th scope=col>&lt;dbl&gt;</th><th scope=col>&lt;dbl&gt;</th></tr>\n",
              "</thead>\n",
              "<tbody>\n",
              "\t<tr><th scope=row>X1</th><td>1</td><td>59</td><td>33.05085</td><td>45.58411</td><td>16</td><td>27.30909</td><td>14.826</td><td>0</td><td>302</td><td>302</td><td>3.862289</td><td>18.49612</td><td>5.934546</td></tr>\n",
              "</tbody>\n",
              "</table>\n"
            ]
          },
          "metadata": {
            "tags": []
          }
        }
      ]
    },
    {
      "cell_type": "code",
      "metadata": {
        "colab": {
          "base_uri": "https://localhost:8080/",
          "height": 425
        },
        "id": "s0VNuoNVuGv-",
        "outputId": "22337ea8-a5bc-478c-f0ad-e11268a09da7"
      },
      "source": [
        "#포아송 회귀모델은 일반 선형 모델 범주에 속함. 따라서  glm함수를 동일하게 사용 가능하다. glm -> Generalized Linear Model \n",
        "seizure.poisson <- glm(sumY~Base+Age+Trt, data=seizure, family = poisson)\n",
        "summary(seizure.poisson)"
      ],
      "execution_count": 8,
      "outputs": [
        {
          "output_type": "display_data",
          "data": {
            "text/plain": [
              "\n",
              "Call:\n",
              "glm(formula = sumY ~ Base + Age + Trt, family = poisson, data = seizure)\n",
              "\n",
              "Deviance Residuals: \n",
              "    Min       1Q   Median       3Q      Max  \n",
              "-6.0569  -2.0433  -0.9397   0.7929  11.0061  \n",
              "\n",
              "Coefficients:\n",
              "               Estimate Std. Error z value Pr(>|z|)    \n",
              "(Intercept)   1.9488259  0.1356191  14.370  < 2e-16 ***\n",
              "Base          0.0226517  0.0005093  44.476  < 2e-16 ***\n",
              "Age           0.0227401  0.0040240   5.651 1.59e-08 ***\n",
              "Trtprogabide -0.1527009  0.0478051  -3.194   0.0014 ** \n",
              "---\n",
              "Signif. codes:  0 ‘***’ 0.001 ‘**’ 0.01 ‘*’ 0.05 ‘.’ 0.1 ‘ ’ 1\n",
              "\n",
              "(Dispersion parameter for poisson family taken to be 1)\n",
              "\n",
              "    Null deviance: 2122.73  on 58  degrees of freedom\n",
              "Residual deviance:  559.44  on 55  degrees of freedom\n",
              "AIC: 850.71\n",
              "\n",
              "Number of Fisher Scoring iterations: 5\n"
            ]
          },
          "metadata": {
            "tags": []
          }
        }
      ]
    },
    {
      "cell_type": "markdown",
      "metadata": {
        "id": "a_6VpBbtvP5f"
      },
      "source": [
        "세 예측변수 모두 유의수준 0.05 하에서 통계적으로 유의함. \n",
        "\n",
        "회귀모델 자체의 유의성 검정은 하단 deviance(이탈도)를 통해 할 수 있다. 이탈도는 예측모델의 비적합도를 나타내는 지표이다. 당연하게도 이탈도가 클수록 적합하지 않다는 것을 의미함. \n",
        "Null model은 예측변수에 상수항만을 포함하는 모델을 말하는데 Null dviance는 그런 모델에 대한 이탈도를 의미한다. 또 그 아래 Residual deviance는 위 검정에서 나온 예측변수들을 포함한 모델에 대한 이탈도이다.\n",
        "이 두 이탈도에 대한 차이 검정(chi-square)을 통해 이탈도에 대한 차이가 유의한지 알아본다. \n",
        "\n"
      ]
    },
    {
      "cell_type": "code",
      "metadata": {
        "colab": {
          "base_uri": "https://localhost:8080/",
          "height": 34
        },
        "id": "03ZHJsLbwf22",
        "outputId": "2e50b317-518f-41ef-e23d-6997b0991e34"
      },
      "source": [
        "pchisq(q= 2122.73-559.44, df=58-55, lower.tail = FALSE) #카이제곱에서 오른쪽 꼬리부분의 면적이 유의확률이기 때문에 lower.tail을 False로 지정"
      ],
      "execution_count": 9,
      "outputs": [
        {
          "output_type": "display_data",
          "data": {
            "text/plain": [
              "[1] 0"
            ],
            "text/latex": "0",
            "text/markdown": "0",
            "text/html": [
              "0"
            ]
          },
          "metadata": {
            "tags": []
          }
        }
      ]
    },
    {
      "cell_type": "markdown",
      "metadata": {
        "id": "0Yc85Gn5w6q0"
      },
      "source": [
        "둘 간의 차이는 통계적으로 유의하다. 즉, 추가한 세 개의 예측변수는 모델의 적합도 개선에 통계적으로 의미있는 기여를 한다. 현재의 모델이 통계적으로 유의하다. "
      ]
    },
    {
      "cell_type": "markdown",
      "metadata": {
        "id": "gmdqo9Pnxgyw"
      },
      "source": [
        "추정된 베타계수(Estimate Std)는 원래의 관측값과 척도가 다르기 때문에 해석상에 어려움이 발생함. 따라서 결과변수의 원래의 척도대로 해석할 수 있도록 **지수함수**를 취한다. "
      ]
    },
    {
      "cell_type": "code",
      "metadata": {
        "colab": {
          "base_uri": "https://localhost:8080/",
          "height": 34
        },
        "id": "39QDhU2Tw3sm",
        "outputId": "d53e1429-7662-4023-93bc-7185c93e8866"
      },
      "source": [
        "exp(coef(seizure.poisson)) #나이 1살이 증가할 때마다 발작의 횟수를 1.023 배 증가시킨다. 위약(1)에서 진약(2)로 한 단위 증가할 때 발작 횟수가 약 0.86배 증가한다. 진약을 처방 받은 집단이 그렇지 않은 집단에 비해 발작이 약 14% 감소한다.  "
      ],
      "execution_count": 10,
      "outputs": [
        {
          "output_type": "display_data",
          "data": {
            "text/plain": [
              " (Intercept)         Base          Age Trtprogabide \n",
              "   7.0204403    1.0229102    1.0230007    0.8583864 "
            ],
            "text/latex": "\\begin{description*}\n\\item[(Intercept)] 7.02044028274696\n\\item[Base] 1.02291023615545\n\\item[Age] 1.02300066283388\n\\item[Trtprogabide] 0.858386388030718\n\\end{description*}\n",
            "text/markdown": "(Intercept)\n:   7.02044028274696Base\n:   1.02291023615545Age\n:   1.02300066283388Trtprogabide\n:   0.858386388030718\n\n",
            "text/html": [
              "<style>\n",
              ".dl-inline {width: auto; margin:0; padding: 0}\n",
              ".dl-inline>dt, .dl-inline>dd {float: none; width: auto; display: inline-block}\n",
              ".dl-inline>dt::after {content: \":\\0020\"; padding-right: .5ex}\n",
              ".dl-inline>dt:not(:first-of-type) {padding-left: .5ex}\n",
              "</style><dl class=dl-inline><dt>(Intercept)</dt><dd>7.02044028274696</dd><dt>Base</dt><dd>1.02291023615545</dd><dt>Age</dt><dd>1.02300066283388</dd><dt>Trtprogabide</dt><dd>0.858386388030718</dd></dl>\n"
            ]
          },
          "metadata": {
            "tags": []
          }
        }
      ]
    },
    {
      "cell_type": "markdown",
      "metadata": {
        "id": "uBnep5cWfZdQ"
      },
      "source": [
        "## 과대산포(Over-dispersion) 문제 \n",
        "\n",
        "포아송 분포에서는 **평균=분산**이라고 가정함. \n",
        "분산이 평균보다 클 때(과대산포)일 때는 포아송 회귀모형을 사용할 수 없다. 과대산포 시 적용할 수 있는 대안 모델로는 과대산포 포아송 회귀(Overdispersed Poisson Regression), 음이항회귀(Negative Binomial Regression)가 있다([출처](https://rfriend.tistory.com/490)).\n",
        "\n",
        "결과변수의 실제 관측된 분산이 포아송 분포에 의해 기대되는 분산보다 클 때 발생함. 즉 분산대 평균의 비율이 1보다 클 때 발생. \n",
        "- 과산포가 발생하면 표준오차가 매우 작아짐. \n",
        "- t통계량은 회귀계수를 표준오차로 나누어 계산하기 때문에 과산포시 t값이 커진다. \n",
        "- t값이 커지면 유의확률이 작아져서 \"회귀계수가 0\"이라는 H0을 쉽게 기각한다(1종 오류에 대한 우려).\n",
        "\n",
        "포아송 분포는 각 사건의 발생률이 일정하다고 가정한다. 다음 사건이 일어날 때까지 간격은 일정하다라는 것. 그러나 현실에서는 그런 가정이 위반 되는 경우가 태반이다. 따라서 관측값의 변동성이 기대한 것보다 과대되어 나타날 수 있다. \n",
        "\n",
        "**로지스틱 회귀분석과 마찬가지로 잔차 이탈도 대 잔차 자유도의 비율이 2를 크게 상회 -> 과산포 의심!**\n",
        "\n",
        "\n"
      ]
    },
    {
      "cell_type": "code",
      "metadata": {
        "id": "HBThypOky11g",
        "colab": {
          "base_uri": "https://localhost:8080/",
          "height": 34
        },
        "outputId": "4759fb6e-68a7-4a88-f7fe-259ce0432934"
      },
      "source": [
        "#잔차 이탈도 대 잔차 자유도 비율 계산 \n",
        "\n",
        "deviance(seizure.poisson)/df.residual(seizure.poisson) #2를 아주 크게 상회!"
      ],
      "execution_count": 11,
      "outputs": [
        {
          "output_type": "display_data",
          "data": {
            "text/plain": [
              "[1] 10.1717"
            ],
            "text/latex": "10.1717029935069",
            "text/markdown": "10.1717029935069",
            "text/html": [
              "10.1717029935069"
            ]
          },
          "metadata": {
            "tags": []
          }
        }
      ]
    },
    {
      "cell_type": "code",
      "metadata": {
        "colab": {
          "base_uri": "https://localhost:8080/",
          "height": 216
        },
        "id": "Ux6Bw1_ajuO8",
        "outputId": "95fd6644-4bcf-4be4-9a38-7438808f7041"
      },
      "source": [
        "#더 간단한 과산포 검정 \n",
        "install.packages(\"qcc\")\n",
        "library(qcc)\n",
        "qcc.overdispersion.test(seizure$sumY, type=\"poisson\") #\"데이터가 과산포가 아니다\"라는 귀무가설을 검정함. 유의확률이 0으로 유의수준 0.05 하에서 귀무가설 기각. 즉 데이터가 과산포다!\n"
      ],
      "execution_count": 13,
      "outputs": [
        {
          "output_type": "stream",
          "text": [
            "Installing package into ‘/usr/local/lib/R/site-library’\n",
            "(as ‘lib’ is unspecified)\n",
            "\n",
            "Package 'qcc' version 2.7\n",
            "\n",
            "Type 'citation(\"qcc\")' for citing this R package in publications.\n",
            "\n"
          ],
          "name": "stderr"
        },
        {
          "output_type": "display_data",
          "data": {
            "text/plain": [
              "                   \n",
              "Overdispersion test Obs.Var/Theor.Var Statistic p-value\n",
              "       poisson data 62.87013          3646.468  0      "
            ],
            "text/latex": "A matrix: 1 × 3 of type dbl\n\\begin{tabular}{r|lll}\n  & Obs.Var/Theor.Var & Statistic & p-value\\\\\n\\hline\n\tpoisson data & 62.87013 & 3646.468 & 0\\\\\n\\end{tabular}\n",
            "text/markdown": "\nA matrix: 1 × 3 of type dbl\n\n| <!--/--> | Obs.Var/Theor.Var | Statistic | p-value |\n|---|---|---|---|\n| poisson data | 62.87013 | 3646.468 | 0 |\n\n",
            "text/html": [
              "<table class=\"dataframe\">\n",
              "<caption>A matrix: 1 × 3 of type dbl</caption>\n",
              "<thead>\n",
              "\t<tr><th></th><th scope=col>Obs.Var/Theor.Var</th><th scope=col>Statistic</th><th scope=col>p-value</th></tr>\n",
              "</thead>\n",
              "<tbody>\n",
              "\t<tr><th scope=row>poisson data</th><td>62.87013</td><td>3646.468</td><td>0</td></tr>\n",
              "</tbody>\n",
              "</table>\n"
            ]
          },
          "metadata": {
            "tags": []
          }
        }
      ]
    },
    {
      "cell_type": "markdown",
      "metadata": {
        "id": "2J9650lVkPiR"
      },
      "source": [
        "### 과산포 문제가 있는 경우의 포아송 회귀분석\n",
        "\n"
      ]
    },
    {
      "cell_type": "code",
      "metadata": {
        "colab": {
          "base_uri": "https://localhost:8080/",
          "height": 850
        },
        "id": "kT9wrpEWkc32",
        "outputId": "5fb3087f-dfe2-441d-f8d5-a26c2c044a4a"
      },
      "source": [
        "seizure.qpoisson <- glm(sumY ~ Base + Age + Trt, data=seizure, family = quasipoisson())\n",
        "summary(seizure.qpoisson)\n",
        "summary(seizure.poisson) #비교"
      ],
      "execution_count": 15,
      "outputs": [
        {
          "output_type": "display_data",
          "data": {
            "text/plain": [
              "\n",
              "Call:\n",
              "glm(formula = sumY ~ Base + Age + Trt, family = quasipoisson(), \n",
              "    data = seizure)\n",
              "\n",
              "Deviance Residuals: \n",
              "    Min       1Q   Median       3Q      Max  \n",
              "-6.0569  -2.0433  -0.9397   0.7929  11.0061  \n",
              "\n",
              "Coefficients:\n",
              "              Estimate Std. Error t value Pr(>|t|)    \n",
              "(Intercept)   1.948826   0.465091   4.190 0.000102 ***\n",
              "Base          0.022652   0.001747  12.969  < 2e-16 ***\n",
              "Age           0.022740   0.013800   1.648 0.105085    \n",
              "Trtprogabide -0.152701   0.163943  -0.931 0.355702    \n",
              "---\n",
              "Signif. codes:  0 ‘***’ 0.001 ‘**’ 0.01 ‘*’ 0.05 ‘.’ 0.1 ‘ ’ 1\n",
              "\n",
              "(Dispersion parameter for quasipoisson family taken to be 11.76075)\n",
              "\n",
              "    Null deviance: 2122.73  on 58  degrees of freedom\n",
              "Residual deviance:  559.44  on 55  degrees of freedom\n",
              "AIC: NA\n",
              "\n",
              "Number of Fisher Scoring iterations: 5\n"
            ]
          },
          "metadata": {
            "tags": []
          }
        },
        {
          "output_type": "display_data",
          "data": {
            "text/plain": [
              "\n",
              "Call:\n",
              "glm(formula = sumY ~ Base + Age + Trt, family = poisson, data = seizure)\n",
              "\n",
              "Deviance Residuals: \n",
              "    Min       1Q   Median       3Q      Max  \n",
              "-6.0569  -2.0433  -0.9397   0.7929  11.0061  \n",
              "\n",
              "Coefficients:\n",
              "               Estimate Std. Error z value Pr(>|z|)    \n",
              "(Intercept)   1.9488259  0.1356191  14.370  < 2e-16 ***\n",
              "Base          0.0226517  0.0005093  44.476  < 2e-16 ***\n",
              "Age           0.0227401  0.0040240   5.651 1.59e-08 ***\n",
              "Trtprogabide -0.1527009  0.0478051  -3.194   0.0014 ** \n",
              "---\n",
              "Signif. codes:  0 ‘***’ 0.001 ‘**’ 0.01 ‘*’ 0.05 ‘.’ 0.1 ‘ ’ 1\n",
              "\n",
              "(Dispersion parameter for poisson family taken to be 1)\n",
              "\n",
              "    Null deviance: 2122.73  on 58  degrees of freedom\n",
              "Residual deviance:  559.44  on 55  degrees of freedom\n",
              "AIC: 850.71\n",
              "\n",
              "Number of Fisher Scoring iterations: 5\n"
            ]
          },
          "metadata": {
            "tags": []
          }
        }
      ]
    },
    {
      "cell_type": "markdown",
      "metadata": {
        "id": "Jw-skiMckr3m"
      },
      "source": [
        "회귀계수는 상수항 1.95, Base 0.02, Age 0.02, Trt  0.15로 동일하다.  반면 표준오차(Std. Error)가 매우 커졌다. **따라서 더 커진 표준오차로 인해 회귀계수를 표준오차로 나눠 구하는 t통계량이 감소한다.** 그로 인해 유의확률이 증가하여 유의수준 0.05 하에서 귀무가설을 기각하지 못한다. ->  \"회귀계수는 통계적으로 유의하지 않다\"\n",
        "\n",
        "본 데이터셋으로 결과를 해석하면 \"실제 뇌졸증 치료제를 처방 받은 환자집단이 위약(placebo)을 처방 받은 집단보다 발작횟수가 적다고 할만한 증거가 충분하지 않다\" 나이 역시 마찬가지. 따라서 치료 이전에 발작 횟수만이 향후 발작횟수를 예측하는 데 유의한 영향으로 나타났다. \n"
      ]
    },
    {
      "cell_type": "markdown",
      "metadata": {
        "id": "Y0hlC91vmC9f"
      },
      "source": [
        "## 관측값의 시간 간격이 다른 경우\n",
        "\n",
        "위에서 알아본 데이터셋은 발작횟수를 측정한 시간간격은 모든 환자에 대해서 동일했다. 그러나 현실에서는 그렇지 않은 경우가 허다하다. \n",
        "\n",
        "각 관측값의 시간 간격이 다른 경우에는 결과변수는 사건발생횟수를 단위 시간으로 나눈 사건발생률이 된다. 즉 **단위 시간당 발생횟수가 분석대상**이 된다. \n",
        "\n",
        "사건발생률을 분석하기 위해서는 각 관측값에 대해 얼마의 기간동안 사건발생횟수를 측정했는지 나타내는 시간 변수가 포아송회귀모델에 포함되어야 한다. "
      ]
    },
    {
      "cell_type": "code",
      "metadata": {
        "colab": {
          "base_uri": "https://localhost:8080/"
        },
        "id": "JEDBNXlwnD1y",
        "outputId": "0c71c612-9d88-4e7c-ecc5-ab896cfbeb8c"
      },
      "source": [
        "library(MASS)\n",
        "str(ships) \n",
        "#단순 손상횟수가 아닌 '사용 기간' 당 손상횟수를 결과변수로 한다. "
      ],
      "execution_count": 16,
      "outputs": [
        {
          "output_type": "stream",
          "text": [
            "'data.frame':\t40 obs. of  5 variables:\n",
            " $ type     : Factor w/ 5 levels \"A\",\"B\",\"C\",\"D\",..: 1 1 1 1 1 1 1 1 2 2 ...\n",
            " $ year     : int  60 60 65 65 70 70 75 75 60 60 ...\n",
            " $ period   : int  60 75 60 75 60 75 60 75 60 75 ...\n",
            " $ service  : int  127 63 1095 1095 1512 3353 0 2244 44882 17176 ...\n",
            " $ incidents: int  0 0 3 4 6 18 0 11 39 29 ...\n"
          ],
          "name": "stdout"
        }
      ]
    },
    {
      "cell_type": "code",
      "metadata": {
        "colab": {
          "base_uri": "https://localhost:8080/",
          "height": 51
        },
        "id": "oEhyjseJnIHw",
        "outputId": "698ba0a5-b581-4660-d0e1-c91c2d1bbed7"
      },
      "source": [
        "#사용기간 당 손상횟수로 나타내기 위한 전처리\n",
        "shipsinc <- subset(ships, service > 0) #사용 기간이 0인 배는 제외\n",
        "shipsinc$year <- as.factor(shipsinc$year) #범주형으로 변환\n",
        "shipsinc$period <- as.factor(shipsinc$period) \n",
        "levels(shipsinc$year)\n",
        "levels(shipsinc$period)"
      ],
      "execution_count": 20,
      "outputs": [
        {
          "output_type": "display_data",
          "data": {
            "text/plain": [
              "[1] \"60\" \"65\" \"70\" \"75\""
            ],
            "text/latex": "\\begin{enumerate*}\n\\item '60'\n\\item '65'\n\\item '70'\n\\item '75'\n\\end{enumerate*}\n",
            "text/markdown": "1. '60'\n2. '65'\n3. '70'\n4. '75'\n\n\n",
            "text/html": [
              "<style>\n",
              ".list-inline {list-style: none; margin:0; padding: 0}\n",
              ".list-inline>li {display: inline-block}\n",
              ".list-inline>li:not(:last-child)::after {content: \"\\00b7\"; padding: 0 .5ex}\n",
              "</style>\n",
              "<ol class=list-inline><li>'60'</li><li>'65'</li><li>'70'</li><li>'75'</li></ol>\n"
            ]
          },
          "metadata": {
            "tags": []
          }
        },
        {
          "output_type": "display_data",
          "data": {
            "text/plain": [
              "[1] \"60\" \"75\""
            ],
            "text/latex": "\\begin{enumerate*}\n\\item '60'\n\\item '75'\n\\end{enumerate*}\n",
            "text/markdown": "1. '60'\n2. '75'\n\n\n",
            "text/html": [
              "<style>\n",
              ".list-inline {list-style: none; margin:0; padding: 0}\n",
              ".list-inline>li {display: inline-block}\n",
              ".list-inline>li:not(:last-child)::after {content: \"\\00b7\"; padding: 0 .5ex}\n",
              "</style>\n",
              "<ol class=list-inline><li>'60'</li><li>'75'</li></ol>\n"
            ]
          },
          "metadata": {
            "tags": []
          }
        }
      ]
    },
    {
      "cell_type": "code",
      "metadata": {
        "colab": {
          "base_uri": "https://localhost:8080/",
          "height": 624
        },
        "id": "KLeahG1qoG3M",
        "outputId": "688886fe-2180-4d80-d399-f9fe7973d7a9"
      },
      "source": [
        "shipsinc.poisson <- glm(incidents ~ type + year + period, data=shipsinc, family = poisson(), offset = log(service)) #offset으로 시간변수 지정함. \n",
        "deviance(shipsinc.poisson)/df.residual(shipsinc.poisson) #과산포 검정\n",
        "qcc.overdispersion.test(shipsinc$incidents, type = \"poisson\") #데이터가 과산포가 아니라는 귀무가설 기각함. ㅠ \n",
        "summary(shipsinc.poisson) #분석 결과"
      ],
      "execution_count": 25,
      "outputs": [
        {
          "output_type": "display_data",
          "data": {
            "text/plain": [
              "[1] 1.547802"
            ],
            "text/latex": "1.54780206142219",
            "text/markdown": "1.54780206142219",
            "text/html": [
              "1.54780206142219"
            ]
          },
          "metadata": {
            "tags": []
          }
        },
        {
          "output_type": "display_data",
          "data": {
            "text/plain": [
              "                   \n",
              "Overdispersion test Obs.Var/Theor.Var Statistic p-value\n",
              "       poisson data 23.64624          780.3258  0      "
            ],
            "text/latex": "A matrix: 1 × 3 of type dbl\n\\begin{tabular}{r|lll}\n  & Obs.Var/Theor.Var & Statistic & p-value\\\\\n\\hline\n\tpoisson data & 23.64624 & 780.3258 & 0\\\\\n\\end{tabular}\n",
            "text/markdown": "\nA matrix: 1 × 3 of type dbl\n\n| <!--/--> | Obs.Var/Theor.Var | Statistic | p-value |\n|---|---|---|---|\n| poisson data | 23.64624 | 780.3258 | 0 |\n\n",
            "text/html": [
              "<table class=\"dataframe\">\n",
              "<caption>A matrix: 1 × 3 of type dbl</caption>\n",
              "<thead>\n",
              "\t<tr><th></th><th scope=col>Obs.Var/Theor.Var</th><th scope=col>Statistic</th><th scope=col>p-value</th></tr>\n",
              "</thead>\n",
              "<tbody>\n",
              "\t<tr><th scope=row>poisson data</th><td>23.64624</td><td>780.3258</td><td>0</td></tr>\n",
              "</tbody>\n",
              "</table>\n"
            ]
          },
          "metadata": {
            "tags": []
          }
        },
        {
          "output_type": "display_data",
          "data": {
            "text/plain": [
              "\n",
              "Call:\n",
              "glm(formula = incidents ~ type + year + period, family = poisson(), \n",
              "    data = shipsinc, offset = log(service))\n",
              "\n",
              "Deviance Residuals: \n",
              "    Min       1Q   Median       3Q      Max  \n",
              "-1.6768  -0.8293  -0.4370   0.5058   2.7912  \n",
              "\n",
              "Coefficients:\n",
              "            Estimate Std. Error z value Pr(>|z|)    \n",
              "(Intercept) -6.40590    0.21744 -29.460  < 2e-16 ***\n",
              "typeB       -0.54334    0.17759  -3.060  0.00222 ** \n",
              "typeC       -0.68740    0.32904  -2.089  0.03670 *  \n",
              "typeD       -0.07596    0.29058  -0.261  0.79377    \n",
              "typeE        0.32558    0.23588   1.380  0.16750    \n",
              "year65       0.69714    0.14964   4.659 3.18e-06 ***\n",
              "year70       0.81843    0.16977   4.821 1.43e-06 ***\n",
              "year75       0.45343    0.23317   1.945  0.05182 .  \n",
              "period75     0.38447    0.11827   3.251  0.00115 ** \n",
              "---\n",
              "Signif. codes:  0 ‘***’ 0.001 ‘**’ 0.01 ‘*’ 0.05 ‘.’ 0.1 ‘ ’ 1\n",
              "\n",
              "(Dispersion parameter for poisson family taken to be 1)\n",
              "\n",
              "    Null deviance: 146.328  on 33  degrees of freedom\n",
              "Residual deviance:  38.695  on 25  degrees of freedom\n",
              "AIC: 154.56\n",
              "\n",
              "Number of Fisher Scoring iterations: 5\n"
            ]
          },
          "metadata": {
            "tags": []
          }
        }
      ]
    },
    {
      "cell_type": "code",
      "metadata": {
        "colab": {
          "base_uri": "https://localhost:8080/",
          "height": 527
        },
        "id": "8PZ21F0Co6PU",
        "outputId": "affea017-2729-4828-bfb4-3a80dc4d724d"
      },
      "source": [
        "shipsinc.qpoisson <- update(shipsinc.poisson, family=quasipoisson()) #update함수를 이용해서 기존 생성모델을 기반으로 해서 새로운 모델 쉽게 추정 가능함. \n",
        "summary(shipsinc.qpoisson)"
      ],
      "execution_count": 27,
      "outputs": [
        {
          "output_type": "display_data",
          "data": {
            "text/plain": [
              "\n",
              "Call:\n",
              "glm(formula = incidents ~ type + year + period, family = quasipoisson(), \n",
              "    data = shipsinc, offset = log(service))\n",
              "\n",
              "Deviance Residuals: \n",
              "    Min       1Q   Median       3Q      Max  \n",
              "-1.6768  -0.8293  -0.4370   0.5058   2.7912  \n",
              "\n",
              "Coefficients:\n",
              "            Estimate Std. Error t value Pr(>|t|)    \n",
              "(Intercept) -6.40590    0.28276 -22.655  < 2e-16 ***\n",
              "typeB       -0.54334    0.23094  -2.353  0.02681 *  \n",
              "typeC       -0.68740    0.42789  -1.607  0.12072    \n",
              "typeD       -0.07596    0.37787  -0.201  0.84230    \n",
              "typeE        0.32558    0.30674   1.061  0.29864    \n",
              "year65       0.69714    0.19459   3.583  0.00143 ** \n",
              "year70       0.81843    0.22077   3.707  0.00105 ** \n",
              "year75       0.45343    0.30321   1.495  0.14733    \n",
              "period75     0.38447    0.15380   2.500  0.01935 *  \n",
              "---\n",
              "Signif. codes:  0 ‘***’ 0.001 ‘**’ 0.01 ‘*’ 0.05 ‘.’ 0.1 ‘ ’ 1\n",
              "\n",
              "(Dispersion parameter for quasipoisson family taken to be 1.691028)\n",
              "\n",
              "    Null deviance: 146.328  on 33  degrees of freedom\n",
              "Residual deviance:  38.695  on 25  degrees of freedom\n",
              "AIC: NA\n",
              "\n",
              "Number of Fisher Scoring iterations: 5\n"
            ]
          },
          "metadata": {
            "tags": []
          }
        }
      ]
    },
    {
      "cell_type": "code",
      "metadata": {
        "colab": {
          "base_uri": "https://localhost:8080/",
          "height": 51
        },
        "id": "7Ixdssihpdk3",
        "outputId": "c6b217bf-ef8e-4505-ed70-e4bf1a49a0a3"
      },
      "source": [
        "exp(coef(shipsinc.qpoisson))"
      ],
      "execution_count": 28,
      "outputs": [
        {
          "output_type": "display_data",
          "data": {
            "text/plain": [
              "(Intercept)       typeB       typeC       typeD       typeE      year65 \n",
              " 0.00165178  0.58080262  0.50288104  0.92685196  1.38483286  2.00800246 \n",
              "     year70      year75    period75 \n",
              " 2.26693019  1.57369544  1.46883116 "
            ],
            "text/latex": "\\begin{description*}\n\\item[(Intercept)] 0.00165178036936366\n\\item[typeB] 0.580802621898362\n\\item[typeC] 0.502881035317077\n\\item[typeD] 0.926851962078563\n\\item[typeE] 1.38483286355524\n\\item[year65] 2.00800245954252\n\\item[year70] 2.26693019034316\n\\item[year75] 1.57369544284808\n\\item[period75] 1.46883116434195\n\\end{description*}\n",
            "text/markdown": "(Intercept)\n:   0.00165178036936366typeB\n:   0.580802621898362typeC\n:   0.502881035317077typeD\n:   0.926851962078563typeE\n:   1.38483286355524year65\n:   2.00800245954252year70\n:   2.26693019034316year75\n:   1.57369544284808period75\n:   1.46883116434195\n\n",
            "text/html": [
              "<style>\n",
              ".dl-inline {width: auto; margin:0; padding: 0}\n",
              ".dl-inline>dt, .dl-inline>dd {float: none; width: auto; display: inline-block}\n",
              ".dl-inline>dt::after {content: \":\\0020\"; padding-right: .5ex}\n",
              ".dl-inline>dt:not(:first-of-type) {padding-left: .5ex}\n",
              "</style><dl class=dl-inline><dt>(Intercept)</dt><dd>0.00165178036936366</dd><dt>typeB</dt><dd>0.580802621898362</dd><dt>typeC</dt><dd>0.502881035317077</dd><dt>typeD</dt><dd>0.926851962078563</dd><dt>typeE</dt><dd>1.38483286355524</dd><dt>year65</dt><dd>2.00800245954252</dd><dt>year70</dt><dd>2.26693019034316</dd><dt>year75</dt><dd>1.57369544284808</dd><dt>period75</dt><dd>1.46883116434195</dd></dl>\n"
            ]
          },
          "metadata": {
            "tags": []
          }
        }
      ]
    },
    {
      "cell_type": "markdown",
      "metadata": {
        "id": "G1qEGVDspijb"
      },
      "source": [
        "- 선박 종류는 A~E형. 손상 위험은 C형< B형< D형< A형 < E형 순이다. 기준범주인 A형 선박(1.0)에 비해 B형 선박은 손상 위험이 0.58배 높다. C형 선박은 0.5배.\n",
        "\n",
        "- 건조시점은 1960년부터 5년 간격. 손상위험은 year60 < period75 < year75 < year65 < year70 순이다. 1960년~1964년 제작된(year60) 선박에 비해 1975년~1979년 운행된 선박(period75)의 손상위험은 1.47배 높다. "
      ]
    },
    {
      "cell_type": "markdown",
      "metadata": {
        "id": "sQRKcWnisUSm"
      },
      "source": [
        "# 다음 예제 \n",
        "\n",
        "https://statkclee.github.io/statistics/stat-flying-bomb-poisson.html\n"
      ]
    }
  ]
}